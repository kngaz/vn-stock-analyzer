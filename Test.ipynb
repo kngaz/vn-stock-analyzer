{
 "cells": [
  {
   "cell_type": "code",
   "execution_count": 1,
   "metadata": {},
   "outputs": [],
   "source": [
    "from bs4 import BeautifulSoup\n",
    "from datetime import datetime\n",
    "import pandas as pd\n"
   ]
  },
  {
   "cell_type": "code",
   "execution_count": 2,
   "metadata": {},
   "outputs": [],
   "source": [
    "def is_number(s):\n",
    "    \"\"\" Returns True is string is a number. \"\"\"\n",
    "    return s.replace('.','',1).isdigit()"
   ]
  },
  {
   "cell_type": "code",
   "execution_count": 89,
   "metadata": {},
   "outputs": [],
   "source": [
    "data_dict = {}\n",
    "source = BeautifulSoup(open(\"./data/download/AAA.html\"), \"html.parser\")\n",
    "\n",
    "ticker_code = \"AAA\"\n",
    "# Parsing date\n",
    "days = [datetime.strptime(x.get_text().strip(), \"%Y-%m-%d\")  for x in source.select(\"li div.row-time.noline\")[1:]]\n",
    "data_dict[\"ticker_code\"] = [\"AAA\" for x in range(len(days))]\n",
    "data_dict[\"date\"] = days\n",
    "\n",
    "\n",
    "# Parsing prices\n",
    "prices = [(float(x.get_text().strip()) if is_number(x.get_text().strip()) else x.get_text().strip()) for x in source.select(\"li div.row1\")]\n",
    "data_dict[\"open\"] = prices[6::6]\n",
    "data_dict[\"highest\"] = prices[7::6]\n",
    "data_dict[\"lowest\"] = prices[8::6]\n",
    "data_dict[\"close\"] = prices[9::6]\n",
    "data_dict[\"average\"] = prices[10::6]\n",
    "data_dict[\"adjusted\"] = prices[11::6]\n",
    "\n",
    "# Parsing volume\n",
    "volumes = [((float(x.get_text().strip())) if is_number(x.get_text().strip()) else None) for x in source.select(\"li div.row3\")[2:]]\n",
    "data_dict[\"trading_volume\"] = volumes[0::2]\n",
    "data_dict[\"put_through_volume\"] = volumes[1::2]\n",
    "\n",
    "df = pd.DataFrame(data_dict)\n",
    "df.head(10)\n",
    "df.to_csv(f\"{ticker_code}.csv\",index = None)"
   ]
  },
  {
   "cell_type": "markdown",
   "metadata": {},
   "source": [
    "### Parsing Ticker Code"
   ]
  },
  {
   "cell_type": "code",
   "execution_count": 13,
   "metadata": {},
   "outputs": [],
   "source": [
    "data_dict = {}\n",
    "source = BeautifulSoup(open(\"./data/download/1.html\"), \"html.parser\")"
   ]
  },
  {
   "cell_type": "code",
   "execution_count": 14,
   "metadata": {},
   "outputs": [
    {
     "data": {
      "text/plain": [
       "['A32',\n",
       " '32 JSC',\n",
       " 'Công ty cổ phần 32',\n",
       " 'Personal & Household Goods',\n",
       " 'UPCOM',\n",
       " 'AAA',\n",
       " 'An Phat., JSC',\n",
       " 'Công ty Cổ phần Nhựa và Môi trường xanh An Phát',\n",
       " 'Industrial Goods & Services',\n",
       " 'HOSTC',\n",
       " 'AAM',\n",
       " 'MEKONGFISH',\n",
       " 'Công ty Cổ phần Thủy sản Mekong',\n",
       " 'Food & Beverage',\n",
       " 'HOSTC',\n",
       " 'AAV',\n",
       " 'VTSRE.,HC',\n",
       " 'Công ty cổ phần Việt Tiên Sơn Địa ốc',\n",
       " 'Retail',\n",
       " 'HNX',\n",
       " 'ABB',\n",
       " 'ABBANK',\n",
       " 'Ngân hàng Thương mại Cổ phần An Bình',\n",
       " 'Banks',\n",
       " 'OTC',\n",
       " 'ABC',\n",
       " 'VMG',\n",
       " 'Công ty cổ phần Truyền thông VMG',\n",
       " 'Telecommunications',\n",
       " 'UPCOM',\n",
       " 'ABI',\n",
       " 'ABIC',\n",
       " 'Công ty Cổ phần Bảo hiểm Ngân hàng Nông nghiệp (ABIC)',\n",
       " 'Insurance',\n",
       " 'UPCOM',\n",
       " 'ABR',\n",
       " 'VIET BRAND',\n",
       " 'Công ty Cổ phần Đầu tư Nhãn hiệu Việt',\n",
       " 'Utilities',\n",
       " 'UPCOM',\n",
       " 'ABT',\n",
       " 'AQUATEX BENTRE',\n",
       " 'Công ty Cổ phần Xuất nhập khẩu thủy sản Bến Tre',\n",
       " 'Food & Beverage',\n",
       " 'HOSTC',\n",
       " 'AC4',\n",
       " 'ACC - 244 JSC',\n",
       " 'Công ty cổ phần ACC - 244',\n",
       " 'Personal & Household Goods',\n",
       " 'UPCOM']"
      ]
     },
     "execution_count": 14,
     "metadata": {},
     "output_type": "execute_result"
    }
   ],
   "source": [
    "[x.get_text().strip() for x in source.select(\"tbody tr td span\")]"
   ]
  },
  {
   "cell_type": "code",
   "execution_count": 22,
   "metadata": {},
   "outputs": [],
   "source": [
    "df = pd.DataFrame(([1,2,3], [\"asdasd asd\",'5',6]))"
   ]
  },
  {
   "cell_type": "code",
   "execution_count": 23,
   "metadata": {},
   "outputs": [
    {
     "data": {
      "text/html": [
       "<div>\n",
       "<style scoped>\n",
       "    .dataframe tbody tr th:only-of-type {\n",
       "        vertical-align: middle;\n",
       "    }\n",
       "\n",
       "    .dataframe tbody tr th {\n",
       "        vertical-align: top;\n",
       "    }\n",
       "\n",
       "    .dataframe thead th {\n",
       "        text-align: right;\n",
       "    }\n",
       "</style>\n",
       "<table border=\"1\" class=\"dataframe\">\n",
       "  <thead>\n",
       "    <tr style=\"text-align: right;\">\n",
       "      <th></th>\n",
       "      <th>0</th>\n",
       "      <th>1</th>\n",
       "      <th>2</th>\n",
       "    </tr>\n",
       "  </thead>\n",
       "  <tbody>\n",
       "    <tr>\n",
       "      <th>0</th>\n",
       "      <td>1</td>\n",
       "      <td>2</td>\n",
       "      <td>3</td>\n",
       "    </tr>\n",
       "    <tr>\n",
       "      <th>1</th>\n",
       "      <td>asdasd asd</td>\n",
       "      <td>5</td>\n",
       "      <td>6</td>\n",
       "    </tr>\n",
       "  </tbody>\n",
       "</table>\n",
       "</div>"
      ],
      "text/plain": [
       "            0  1  2\n",
       "0           1  2  3\n",
       "1  asdasd asd  5  6"
      ]
     },
     "execution_count": 23,
     "metadata": {},
     "output_type": "execute_result"
    }
   ],
   "source": [
    "df.head()"
   ]
  },
  {
   "cell_type": "code",
   "execution_count": 24,
   "metadata": {},
   "outputs": [
    {
     "name": "stdout",
     "output_type": "stream",
     "text": [
      "[1, 2, 3]\n",
      "['asdasd asd', '5', 6]\n"
     ]
    }
   ],
   "source": [
    "for _, row in df.iterrows():\n",
    "    print(row.to_list())"
   ]
  },
  {
   "cell_type": "code",
   "execution_count": null,
   "metadata": {},
   "outputs": [],
   "source": []
  },
  {
   "cell_type": "code",
   "execution_count": 20,
   "metadata": {},
   "outputs": [],
   "source": [
    "import psycopg2\n",
    "import pandas as pd\n",
    "from datetime import datetime, timedelta\n",
    "from pytz import timezone"
   ]
  },
  {
   "cell_type": "code",
   "execution_count": 32,
   "metadata": {},
   "outputs": [],
   "source": [
    "db_username = \"admin\"\n",
    "db_psw = \"B@chan1987\"\n",
    "use_virtual_screen = False\n",
    "# conn_string = f\"host=127.0.0.1 dbname=vietnam_stock user={db_username} password={db_psw}\"\n",
    "conn_string = f\"host=127.0.0.1 dbname=vietnam_stock user={db_username} password={db_psw}\"\n",
    "time_zone = \"Asia/Saigon\"\n",
    "date_format = \"%d/%m/%Y\"\n",
    "    \n",
    "last_updated = \"01/01/2010\"\n",
    "with psycopg2.connect(conn_string) as conn:\n",
    "    conn.set_session(autocommit=True)\n",
    "    with conn.cursor() as cur:\n",
    "        cur.execute(\n",
    "            \"SELECT MAX(date) FROM historical_price\")\n",
    "        result = cur.fetchall()[0][0]\n",
    "        if result:\n",
    "            last_updated = (result + timedelta(days=1)).strftime(date_format)\n"
   ]
  },
  {
   "cell_type": "code",
   "execution_count": 33,
   "metadata": {},
   "outputs": [
    {
     "data": {
      "text/plain": [
       "'01/01/2010'"
      ]
     },
     "execution_count": 33,
     "metadata": {},
     "output_type": "execute_result"
    }
   ],
   "source": [
    "last_updated"
   ]
  },
  {
   "cell_type": "code",
   "execution_count": null,
   "metadata": {},
   "outputs": [],
   "source": []
  }
 ],
 "metadata": {
  "kernelspec": {
   "display_name": "Python 3",
   "language": "python",
   "name": "python3"
  },
  "language_info": {
   "codemirror_mode": {
    "name": "ipython",
    "version": 3
   },
   "file_extension": ".py",
   "mimetype": "text/x-python",
   "name": "python",
   "nbconvert_exporter": "python",
   "pygments_lexer": "ipython3",
   "version": "3.7.3"
  }
 },
 "nbformat": 4,
 "nbformat_minor": 2
}
