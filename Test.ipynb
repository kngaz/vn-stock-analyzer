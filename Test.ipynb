{
 "cells": [
  {
   "cell_type": "code",
   "execution_count": 72,
   "metadata": {},
   "outputs": [],
   "source": [
    "from bs4 import BeautifulSoup\n",
    "from datetime import datetime\n",
    "import pandas as pd\n"
   ]
  },
  {
   "cell_type": "code",
   "execution_count": 51,
   "metadata": {},
   "outputs": [],
   "source": [
    "def is_number(s):\n",
    "    \"\"\" Returns True is string is a number. \"\"\"\n",
    "    return s.replace('.','',1).isdigit()"
   ]
  },
  {
   "cell_type": "code",
   "execution_count": 89,
   "metadata": {},
   "outputs": [],
   "source": [
    "data_dict = {}\n",
    "source = BeautifulSoup(open(\"./data/download/AAA.html\"), \"html.parser\")\n",
    "\n",
    "ticker_code = \"AAA\"\n",
    "# Parsing date\n",
    "days = [datetime.strptime(x.get_text().strip(), \"%Y-%m-%d\")  for x in source.select(\"li div.row-time.noline\")[1:]]\n",
    "data_dict[\"ticker_code\"] = [\"AAA\" for x in range(len(days))]\n",
    "data_dict[\"date\"] = days\n",
    "\n",
    "\n",
    "# Parsing prices\n",
    "prices = [(float(x.get_text().strip()) if is_number(x.get_text().strip()) else x.get_text().strip()) for x in source.select(\"li div.row1\")]\n",
    "data_dict[\"open\"] = prices[6::6]\n",
    "data_dict[\"highest\"] = prices[7::6]\n",
    "data_dict[\"lowest\"] = prices[8::6]\n",
    "data_dict[\"close\"] = prices[9::6]\n",
    "data_dict[\"average\"] = prices[10::6]\n",
    "data_dict[\"adjusted\"] = prices[11::6]\n",
    "\n",
    "# Parsing volume\n",
    "volumes = [((float(x.get_text().strip())) if is_number(x.get_text().strip()) else None) for x in source.select(\"li div.row3\")[2:]]\n",
    "data_dict[\"trading_volume\"] = volumes[0::2]\n",
    "data_dict[\"put_through_volume\"] = volumes[1::2]\n",
    "\n",
    "df = pd.DataFrame(data_dict)\n",
    "df.head(10)\n",
    "df.to_csv(f\"{ticker_code}.csv\",index = None)"
   ]
  },
  {
   "cell_type": "code",
   "execution_count": null,
   "metadata": {},
   "outputs": [],
   "source": []
  }
 ],
 "metadata": {
  "kernelspec": {
   "display_name": "Python 3",
   "language": "python",
   "name": "python3"
  },
  "language_info": {
   "codemirror_mode": {
    "name": "ipython",
    "version": 3
   },
   "file_extension": ".py",
   "mimetype": "text/x-python",
   "name": "python",
   "nbconvert_exporter": "python",
   "pygments_lexer": "ipython3",
   "version": "3.7.3"
  }
 },
 "nbformat": 4,
 "nbformat_minor": 2
}
